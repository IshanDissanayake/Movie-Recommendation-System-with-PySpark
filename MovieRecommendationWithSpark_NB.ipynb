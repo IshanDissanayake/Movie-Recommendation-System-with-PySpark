{
 "cells": [
  {
   "cell_type": "code",
   "execution_count": null,
   "metadata": {
    "id": "1T5KkPp8ETP_"
   },
   "outputs": [],
   "source": [
    "from pyspark.sql import SparkSession, DataFrame\n",
    "from pyspark.ml.feature import OneHotEncoder, StringIndexer\n",
    "from pyspark.sql.functions import col, when, split, explode, array, concat_ws\n",
    "from pyspark.ml import Pipeline\n",
    "from pyspark.ml.recommendation import ALS\n",
    "from pyspark.ml.evaluation import RegressionEvaluator"
   ]
  },
  {
   "cell_type": "markdown",
   "metadata": {
    "id": "lql0f8RMJ-Mi"
   },
   "source": [
    "### Load Data"
   ]
  },
  {
   "cell_type": "code",
   "execution_count": 54,
   "metadata": {
    "id": "q6nyl7lyEY7c"
   },
   "outputs": [],
   "source": [
    "#load data\n",
    "spark = SparkSession.builder.appName(\"MovieRecommender\").getOrCreate()\n",
    "\n",
    "movies_data = spark.read.csv(\"/content/Dataset/movies.csv\", header=True, inferSchema=True)\n",
    "ratings_data = spark.read.csv(\"/content/Dataset/ratings.csv\", header=True, inferSchema=True)"
   ]
  },
  {
   "cell_type": "markdown",
   "metadata": {
    "id": "kCueaxnNKAW5"
   },
   "source": [
    "### Preprocess Movies dataset"
   ]
  },
  {
   "cell_type": "code",
   "execution_count": 55,
   "metadata": {
    "id": "ZiX9UZGUF-P9"
   },
   "outputs": [],
   "source": [
    "#preprocess movie data\n",
    "#split genres\n",
    "genre_splitted = movies_data.withColumn(\n",
    "    \"genre_list\",\n",
    "    when(col(\"Genres\").isNotNull(), split(col(\"Genres\"), \"\\\\|\"))\n",
    "    .otherwise(array())\n",
    ")\n",
    "\n",
    "#convert array to string for StringIndexer compatibility\n",
    "genre_splitted = genre_splitted.withColumn(\n",
    "    \"genre_list\",\n",
    "    concat_ws(\",\", col(\"genre_list\"))  #join array elements with a comma\n",
    ")\n",
    "\n",
    "#create genre indexer pipeline\n",
    "genre_indexer = StringIndexer(\n",
    "    inputCol=\"genre_list\",\n",
    "    outputCol=\"genre_indices\"\n",
    ")\n",
    "\n",
    "#one-hot encoder for genre\n",
    "genre_encoder = OneHotEncoder(\n",
    "    inputCol=\"genre_indices\",\n",
    "    outputCol=\"genre_vectors\"\n",
    ")\n",
    "\n",
    "#set pipeline\n",
    "pipeline = Pipeline(stages=[genre_indexer, genre_encoder])\n",
    "\n",
    "#fit and transform the pipeline\n",
    "preprocessed_movies = pipeline.fit(genre_splitted).transform(genre_splitted)"
   ]
  },
  {
   "cell_type": "markdown",
   "metadata": {
    "id": "CRASLHKmKEuS"
   },
   "source": [
    "### Preprocess Ratings dataset"
   ]
  },
  {
   "cell_type": "code",
   "execution_count": 56,
   "metadata": {
    "id": "7zk5zMPKKIcM"
   },
   "outputs": [],
   "source": [
    "preprocessed_ratings = ratings_data.dropna()"
   ]
  },
  {
   "cell_type": "markdown",
   "metadata": {
    "id": "N6JFaLisK3q2"
   },
   "source": [
    "### Split Train, Test datasets"
   ]
  },
  {
   "cell_type": "code",
   "execution_count": 57,
   "metadata": {
    "id": "v619SkiuLDTW"
   },
   "outputs": [],
   "source": [
    "train_data, test_data = preprocessed_ratings.randomSplit([0.8, 0.2], seed=42)"
   ]
  },
  {
   "cell_type": "markdown",
   "metadata": {
    "id": "zPdsugNkKlUz"
   },
   "source": [
    "### Train ALS model"
   ]
  },
  {
   "cell_type": "code",
   "execution_count": 58,
   "metadata": {
    "id": "NradqSXeKpXy"
   },
   "outputs": [],
   "source": [
    "als_model = ALS(\n",
    "        userCol=\"UserId\",\n",
    "        itemCol=\"MovieId\",\n",
    "        ratingCol=\"Rating\",\n",
    "        nonnegative=True,\n",
    "        coldStartStrategy=\"drop\",\n",
    "        rank=10,\n",
    "        maxIter=10\n",
    "    )\n",
    "\n",
    "fitted_model = als_model.fit(train_data)"
   ]
  },
  {
   "cell_type": "markdown",
   "metadata": {
    "id": "x9bUMymyMoAB"
   },
   "source": [
    "### Evaluate ALS model"
   ]
  },
  {
   "cell_type": "code",
   "execution_count": 62,
   "metadata": {
    "id": "2lbgqlsrNzf9"
   },
   "outputs": [],
   "source": [
    "def evaluate_als_model(model, test_data):\n",
    "    predictions = model.transform(test_data)\n",
    "    evaluator = RegressionEvaluator(\n",
    "        metricName='rmse',\n",
    "        labelCol='Rating',\n",
    "        predictionCol='prediction'\n",
    "    )\n",
    "    rmse = evaluator.evaluate(predictions)\n",
    "    return rmse"
   ]
  },
  {
   "cell_type": "code",
   "execution_count": 64,
   "metadata": {
    "colab": {
     "base_uri": "https://localhost:8080/"
    },
    "id": "iqe18l7yLW_H",
    "outputId": "2dfa6186-0cf4-41ec-a67e-41238e7bf757"
   },
   "outputs": [
    {
     "name": "stdout",
     "output_type": "stream",
     "text": [
      "RMSE for trained ALS model: 0.8736\n"
     ]
    }
   ],
   "source": [
    "rmse = evaluate_als_model(fitted_model, test_data)\n",
    "\n",
    "print(f\"RMSE for trained ALS model: {rmse:.4f}\")"
   ]
  },
  {
   "cell_type": "markdown",
   "metadata": {
    "id": "RD2emGF4TXOk"
   },
   "source": [
    "### Get Recommendations"
   ]
  },
  {
   "cell_type": "code",
   "execution_count": 70,
   "metadata": {
    "id": "2ULgbVTUNPHI"
   },
   "outputs": [],
   "source": [
    "def recommend_movies(user_id, train_data, movies_df, model, num_recomms=5):\n",
    "    #create user subset\n",
    "    user_subset = train_data.select(\"UserId\").filter(col(\"UserId\")==user_id)\n",
    "\n",
    "    #get recommendations\n",
    "    user_recomms = model.recommendForUserSubset(\n",
    "        user_subset,\n",
    "        num_recomms\n",
    "    )\n",
    "    #extract movie ids\n",
    "    recommended_movie_ids = user_recomms.select(explode(user_recomms.recommendations.MovieId).alias(\"MovieId\"))\n",
    "\n",
    "    #combine with movie details\n",
    "    recommendations = recommended_movie_ids.join(\n",
    "        movies_df,\n",
    "        recommended_movie_ids.MovieId == movies_df.MovieId\n",
    "        ).select(\n",
    "            movies_df.Title,\n",
    "            movies_df.Genres\n",
    "        )\n",
    "\n",
    "    return recommendations"
   ]
  },
  {
   "cell_type": "markdown",
   "metadata": {
    "id": "KUi_g_U0Wmgy"
   },
   "source": [
    "### Print Recemmendations for Given User"
   ]
  },
  {
   "cell_type": "code",
   "execution_count": 72,
   "metadata": {
    "colab": {
     "base_uri": "https://localhost:8080/"
    },
    "id": "1eMeE93mUfep",
    "outputId": "48fbcf88-f17f-4b9f-c89e-1c5becd11cde"
   },
   "outputs": [
    {
     "name": "stdout",
     "output_type": "stream",
     "text": [
      "+--------------------------------+-------------+\n",
      "|Title                           |Genres       |\n",
      "+--------------------------------+-------------+\n",
      "|Firelight (1997)                |Drama        |\n",
      "|Fall (1997)                     |Romance      |\n",
      "|Bandits (1997)                  |Drama        |\n",
      "|Zachariah (1971)                |Western      |\n",
      "|Leather Jacket Love Story (1997)|Drama|Romance|\n",
      "+--------------------------------+-------------+\n",
      "\n"
     ]
    }
   ],
   "source": [
    "recomms = recommend_movies(500, train_data, preprocessed_movies, fitted_model) #set userId here\n",
    "recomms.show(truncate=False)"
   ]
  }
 ],
 "metadata": {
  "colab": {
   "provenance": []
  },
  "kernelspec": {
   "display_name": "Python 3",
   "name": "python3"
  },
  "language_info": {
   "name": "python"
  }
 },
 "nbformat": 4,
 "nbformat_minor": 0
}
